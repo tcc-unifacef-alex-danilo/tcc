{
 "cells": [
  {
   "cell_type": "markdown",
   "metadata": {
    "hideCode": true,
    "hidePrompt": true
   },
   "source": [
    " <table>\n",
    "    <tr>\n",
    "        <td>\n",
    "           <img src='https://drive.google.com/uc?id=1rkGhPCSN-4TEhtQKc5yzMQjQ5CzYXfv3' height='200px' align='center'>\n",
    "        </td>          \n",
    "    </tr>\n",
    "</table>"
   ]
  },
  {
   "cell_type": "markdown",
   "metadata": {
    "hideCode": true,
    "hidePrompt": true
   },
   "source": [
    "+ **Alunos:** \n",
    "    + Alex Felipe Barbosa\n",
    "    + Danilo Silva Andrade"
   ]
  },
  {
   "cell_type": "markdown",
   "metadata": {
    "hideCode": true,
    "hidePrompt": true
   },
   "source": [
    "---\n",
    "\n",
    "### 1. Declaração das bibliotecas, conexão ao database, e leitura dos dados\n",
    "\n",
    "---"
   ]
  },
  {
   "cell_type": "code",
   "execution_count": 1,
   "metadata": {
    "hideCode": false,
    "hideOutput": false,
    "hidePrompt": true
   },
   "outputs": [
    {
     "data": {
      "text/html": [
       "<div>\n",
       "<style scoped>\n",
       "    .dataframe tbody tr th:only-of-type {\n",
       "        vertical-align: middle;\n",
       "    }\n",
       "\n",
       "    .dataframe tbody tr th {\n",
       "        vertical-align: top;\n",
       "    }\n",
       "\n",
       "    .dataframe thead th {\n",
       "        text-align: right;\n",
       "    }\n",
       "</style>\n",
       "<table border=\"1\" class=\"dataframe\">\n",
       "  <thead>\n",
       "    <tr style=\"text-align: right;\">\n",
       "      <th></th>\n",
       "      <th>DT_APONTAMENTO</th>\n",
       "      <th>ANO</th>\n",
       "      <th>MES</th>\n",
       "      <th>CD_EQUIPAMENTO</th>\n",
       "      <th>CD_ATIVIDADE</th>\n",
       "      <th>NM_ATIVIDADE</th>\n",
       "      <th>FG_ATIVIDADE_PRODUTIVA</th>\n",
       "      <th>FG_ATIVIDADE_MANUTENCAO</th>\n",
       "      <th>VA_DURACAO</th>\n",
       "      <th>VA_TEMPO_MOTOR_LIGADO</th>\n",
       "      <th>VA_TEMPO_MOTOR_OCIOSO</th>\n",
       "      <th>VA_TEMPO_TRABALHO</th>\n",
       "      <th>VA_ABASTECIMENTO</th>\n",
       "      <th>VA_KM_TOTAL</th>\n",
       "      <th>VA_KM_TRABALHO</th>\n",
       "      <th>VA_VELOCIDADE_MEDIA_TR</th>\n",
       "      <th>VA_AREA_TRABALHO</th>\n",
       "    </tr>\n",
       "  </thead>\n",
       "  <tbody>\n",
       "    <tr>\n",
       "      <td>0</td>\n",
       "      <td>25/03/2019</td>\n",
       "      <td>2019</td>\n",
       "      <td>3</td>\n",
       "      <td>225049</td>\n",
       "      <td>2001</td>\n",
       "      <td>Arremate</td>\n",
       "      <td>1</td>\n",
       "      <td>0</td>\n",
       "      <td>2818</td>\n",
       "      <td>2770</td>\n",
       "      <td>12</td>\n",
       "      <td>116</td>\n",
       "      <td>0</td>\n",
       "      <td>0,85895</td>\n",
       "      <td>0,09467</td>\n",
       "      <td>2,93824</td>\n",
       "      <td>0,01419</td>\n",
       "    </tr>\n",
       "    <tr>\n",
       "      <td>1</td>\n",
       "      <td>25/03/2019</td>\n",
       "      <td>2019</td>\n",
       "      <td>3</td>\n",
       "      <td>225049</td>\n",
       "      <td>2000</td>\n",
       "      <td>Manobra Colhedora</td>\n",
       "      <td>1</td>\n",
       "      <td>0</td>\n",
       "      <td>562</td>\n",
       "      <td>554</td>\n",
       "      <td>0</td>\n",
       "      <td>1</td>\n",
       "      <td>0</td>\n",
       "      <td>0,21556</td>\n",
       "      <td>0,00065</td>\n",
       "      <td>2,32143</td>\n",
       "      <td>0,0001</td>\n",
       "    </tr>\n",
       "    <tr>\n",
       "      <td>2</td>\n",
       "      <td>25/03/2019</td>\n",
       "      <td>2019</td>\n",
       "      <td>3</td>\n",
       "      <td>225049</td>\n",
       "      <td>1942</td>\n",
       "      <td>Maquina Embuchada</td>\n",
       "      <td>1</td>\n",
       "      <td>0</td>\n",
       "      <td>11</td>\n",
       "      <td>11</td>\n",
       "      <td>0</td>\n",
       "      <td>0</td>\n",
       "      <td>0</td>\n",
       "      <td>0,00556</td>\n",
       "      <td>0</td>\n",
       "      <td>0</td>\n",
       "      <td>0</td>\n",
       "    </tr>\n",
       "    <tr>\n",
       "      <td>3</td>\n",
       "      <td>25/03/2019</td>\n",
       "      <td>2019</td>\n",
       "      <td>3</td>\n",
       "      <td>225049</td>\n",
       "      <td>1939</td>\n",
       "      <td>Aguardando Transbordo / Colhedora</td>\n",
       "      <td>0</td>\n",
       "      <td>0</td>\n",
       "      <td>5424</td>\n",
       "      <td>44</td>\n",
       "      <td>0</td>\n",
       "      <td>0</td>\n",
       "      <td>0</td>\n",
       "      <td>0</td>\n",
       "      <td>0</td>\n",
       "      <td>0</td>\n",
       "      <td>0</td>\n",
       "    </tr>\n",
       "    <tr>\n",
       "      <td>4</td>\n",
       "      <td>25/03/2019</td>\n",
       "      <td>2019</td>\n",
       "      <td>3</td>\n",
       "      <td>225049</td>\n",
       "      <td>1903</td>\n",
       "      <td>Aguardando Caminhao</td>\n",
       "      <td>0</td>\n",
       "      <td>0</td>\n",
       "      <td>426</td>\n",
       "      <td>61</td>\n",
       "      <td>0</td>\n",
       "      <td>0</td>\n",
       "      <td>0</td>\n",
       "      <td>0,00067</td>\n",
       "      <td>0</td>\n",
       "      <td>0</td>\n",
       "      <td>0</td>\n",
       "    </tr>\n",
       "  </tbody>\n",
       "</table>\n",
       "</div>"
      ],
      "text/plain": [
       "  DT_APONTAMENTO   ANO  MES  CD_EQUIPAMENTO  CD_ATIVIDADE  \\\n",
       "0     25/03/2019  2019    3          225049          2001   \n",
       "1     25/03/2019  2019    3          225049          2000   \n",
       "2     25/03/2019  2019    3          225049          1942   \n",
       "3     25/03/2019  2019    3          225049          1939   \n",
       "4     25/03/2019  2019    3          225049          1903   \n",
       "\n",
       "                        NM_ATIVIDADE  FG_ATIVIDADE_PRODUTIVA  \\\n",
       "0                           Arremate                       1   \n",
       "1                  Manobra Colhedora                       1   \n",
       "2                  Maquina Embuchada                       1   \n",
       "3  Aguardando Transbordo / Colhedora                       0   \n",
       "4                Aguardando Caminhao                       0   \n",
       "\n",
       "   FG_ATIVIDADE_MANUTENCAO  VA_DURACAO  VA_TEMPO_MOTOR_LIGADO  \\\n",
       "0                        0        2818                   2770   \n",
       "1                        0         562                    554   \n",
       "2                        0          11                     11   \n",
       "3                        0        5424                     44   \n",
       "4                        0         426                     61   \n",
       "\n",
       "   VA_TEMPO_MOTOR_OCIOSO  VA_TEMPO_TRABALHO VA_ABASTECIMENTO VA_KM_TOTAL  \\\n",
       "0                     12                116                0     0,85895   \n",
       "1                      0                  1                0     0,21556   \n",
       "2                      0                  0                0     0,00556   \n",
       "3                      0                  0                0           0   \n",
       "4                      0                  0                0     0,00067   \n",
       "\n",
       "  VA_KM_TRABALHO VA_VELOCIDADE_MEDIA_TR VA_AREA_TRABALHO  \n",
       "0        0,09467                2,93824          0,01419  \n",
       "1        0,00065                2,32143           0,0001  \n",
       "2              0                      0                0  \n",
       "3              0                      0                0  \n",
       "4              0                      0                0  "
      ]
     },
     "execution_count": 1,
     "metadata": {},
     "output_type": "execute_result"
    }
   ],
   "source": [
    "## install libraries first before declaring them\n",
    "# !pip install pandas\n",
    "# !pip install numpy\n",
    "# !pip install plotly\n",
    "\n",
    "import pandas as pd\n",
    "import numpy as np\n",
    "import plotly\n",
    "\n",
    "# Search the path\n",
    "dir_db = ('C:\\\\Users\\\\da04257\\\\Downloads\\\\TCC-UNIFACEF\\\\Base_Dados\\\\')\n",
    "\n",
    "# Atributte the path database and search file\n",
    "archive = ('dir_db/DadosEquipamentos_v2.csv')\n",
    "\n",
    "# Read and select columns\n",
    "dataset = pd.read_csv(archive, sep=';')\n",
    "\n",
    "# Print first 10 rows of dataset\n",
    "dataset.head(5)"
   ]
  },
  {
   "cell_type": "markdown",
   "metadata": {
    "hideCode": true,
    "hidePrompt": true
   },
   "source": [
    "---\n",
    "\n",
    "### 2. Exibição dos tipos de dados, para checar tamando do dataset e necessidade de transformação\n",
    "\n",
    "---"
   ]
  },
  {
   "cell_type": "code",
   "execution_count": null,
   "metadata": {
    "hideCode": false,
    "hidePrompt": true
   },
   "outputs": [],
   "source": [
    "dataset.info()"
   ]
  },
  {
   "cell_type": "markdown",
   "metadata": {
    "hideCode": true,
    "hidePrompt": true
   },
   "source": [
    "---\n",
    "\n",
    "### 3. Renomeando, agrupando e calculando o dataset\n",
    "\n",
    "---"
   ]
  },
  {
   "cell_type": "code",
   "execution_count": 2,
   "metadata": {
    "hideCode": false,
    "hidePrompt": true,
    "scrolled": true
   },
   "outputs": [
    {
     "data": {
      "text/html": [
       "<div>\n",
       "<style scoped>\n",
       "    .dataframe tbody tr th:only-of-type {\n",
       "        vertical-align: middle;\n",
       "    }\n",
       "\n",
       "    .dataframe tbody tr th {\n",
       "        vertical-align: top;\n",
       "    }\n",
       "\n",
       "    .dataframe thead th {\n",
       "        text-align: right;\n",
       "    }\n",
       "</style>\n",
       "<table border=\"1\" class=\"dataframe\">\n",
       "  <thead>\n",
       "    <tr style=\"text-align: right;\">\n",
       "      <th></th>\n",
       "      <th></th>\n",
       "      <th></th>\n",
       "      <th></th>\n",
       "      <th></th>\n",
       "      <th></th>\n",
       "      <th></th>\n",
       "      <th></th>\n",
       "      <th>VA_TEMPO_MOTOR_LIGADO</th>\n",
       "      <th>VA_TEMPO_MOTOR_OCIOSO</th>\n",
       "      <th>V_TEMPO_PROD_MED_DIA_ATIVIDADE</th>\n",
       "    </tr>\n",
       "    <tr>\n",
       "      <th>DT_APONTAMENTO</th>\n",
       "      <th>ANO</th>\n",
       "      <th>MES</th>\n",
       "      <th>CD_EQUIPAMENTO</th>\n",
       "      <th>CD_ATIVIDADE</th>\n",
       "      <th>NM_ATIVIDADE</th>\n",
       "      <th>FG_ATIVIDADE_PRODUTIVA</th>\n",
       "      <th>FG_ATIVIDADE_MANUTENCAO</th>\n",
       "      <th></th>\n",
       "      <th></th>\n",
       "      <th></th>\n",
       "    </tr>\n",
       "  </thead>\n",
       "  <tbody>\n",
       "    <tr>\n",
       "      <td rowspan=\"5\" valign=\"top\">01/03/2019</td>\n",
       "      <td rowspan=\"5\" valign=\"top\">2019</td>\n",
       "      <td rowspan=\"5\" valign=\"top\">3</td>\n",
       "      <td rowspan=\"2\" valign=\"top\">225271</td>\n",
       "      <td>1910</td>\n",
       "      <td>Chuva / Excesso Umidade</td>\n",
       "      <td>0</td>\n",
       "      <td>0</td>\n",
       "      <td>0.06</td>\n",
       "      <td>0.04</td>\n",
       "      <td>23.50</td>\n",
       "    </tr>\n",
       "    <tr>\n",
       "      <td>1970</td>\n",
       "      <td>Deslocamento Por Km / Horimetro</td>\n",
       "      <td>0</td>\n",
       "      <td>0</td>\n",
       "      <td>0.45</td>\n",
       "      <td>0.02</td>\n",
       "      <td>0.50</td>\n",
       "    </tr>\n",
       "    <tr>\n",
       "      <td>225272</td>\n",
       "      <td>1910</td>\n",
       "      <td>Chuva / Excesso Umidade</td>\n",
       "      <td>0</td>\n",
       "      <td>0</td>\n",
       "      <td>0.27</td>\n",
       "      <td>0.21</td>\n",
       "      <td>24.00</td>\n",
       "    </tr>\n",
       "    <tr>\n",
       "      <td>225274</td>\n",
       "      <td>1911</td>\n",
       "      <td>Encalhado</td>\n",
       "      <td>0</td>\n",
       "      <td>0</td>\n",
       "      <td>0.34</td>\n",
       "      <td>0.00</td>\n",
       "      <td>24.00</td>\n",
       "    </tr>\n",
       "    <tr>\n",
       "      <td>225398</td>\n",
       "      <td>1130</td>\n",
       "      <td>Corte Mecanico</td>\n",
       "      <td>1</td>\n",
       "      <td>0</td>\n",
       "      <td>0.02</td>\n",
       "      <td>0.00</td>\n",
       "      <td>0.02</td>\n",
       "    </tr>\n",
       "  </tbody>\n",
       "</table>\n",
       "</div>"
      ],
      "text/plain": [
       "                                                                                                                                    VA_TEMPO_MOTOR_LIGADO  \\\n",
       "DT_APONTAMENTO ANO  MES CD_EQUIPAMENTO CD_ATIVIDADE NM_ATIVIDADE                    FG_ATIVIDADE_PRODUTIVA FG_ATIVIDADE_MANUTENCAO                          \n",
       "01/03/2019     2019 3   225271         1910         Chuva / Excesso Umidade         0                      0                                         0.06   \n",
       "                                       1970         Deslocamento Por Km / Horimetro 0                      0                                         0.45   \n",
       "                        225272         1910         Chuva / Excesso Umidade         0                      0                                         0.27   \n",
       "                        225274         1911         Encalhado                       0                      0                                         0.34   \n",
       "                        225398         1130         Corte Mecanico                  1                      0                                         0.02   \n",
       "\n",
       "                                                                                                                                    VA_TEMPO_MOTOR_OCIOSO  \\\n",
       "DT_APONTAMENTO ANO  MES CD_EQUIPAMENTO CD_ATIVIDADE NM_ATIVIDADE                    FG_ATIVIDADE_PRODUTIVA FG_ATIVIDADE_MANUTENCAO                          \n",
       "01/03/2019     2019 3   225271         1910         Chuva / Excesso Umidade         0                      0                                         0.04   \n",
       "                                       1970         Deslocamento Por Km / Horimetro 0                      0                                         0.02   \n",
       "                        225272         1910         Chuva / Excesso Umidade         0                      0                                         0.21   \n",
       "                        225274         1911         Encalhado                       0                      0                                         0.00   \n",
       "                        225398         1130         Corte Mecanico                  1                      0                                         0.00   \n",
       "\n",
       "                                                                                                                                    V_TEMPO_PROD_MED_DIA_ATIVIDADE  \n",
       "DT_APONTAMENTO ANO  MES CD_EQUIPAMENTO CD_ATIVIDADE NM_ATIVIDADE                    FG_ATIVIDADE_PRODUTIVA FG_ATIVIDADE_MANUTENCAO                                  \n",
       "01/03/2019     2019 3   225271         1910         Chuva / Excesso Umidade         0                      0                                                 23.50  \n",
       "                                       1970         Deslocamento Por Km / Horimetro 0                      0                                                  0.50  \n",
       "                        225272         1910         Chuva / Excesso Umidade         0                      0                                                 24.00  \n",
       "                        225274         1911         Encalhado                       0                      0                                                 24.00  \n",
       "                        225398         1130         Corte Mecanico                  1                      0                                                  0.02  "
      ]
     },
     "execution_count": 2,
     "metadata": {},
     "output_type": "execute_result"
    }
   ],
   "source": [
    "# rename column of database\n",
    "dataset = dataset.rename(columns={\"VA_DURACAO\": \"V_TEMPO_PROD_MED_DIA_ATIVIDADE\"})\n",
    "\n",
    "# data grouping and transformation in hours\n",
    "dt_group = dataset.groupby([dataset['DT_APONTAMENTO'], 'ANO', 'MES', 'CD_EQUIPAMENTO', 'CD_ATIVIDADE', 'NM_ATIVIDADE', 'FG_ATIVIDADE_PRODUTIVA', 'FG_ATIVIDADE_MANUTENCAO'])[['VA_TEMPO_MOTOR_LIGADO', 'VA_TEMPO_MOTOR_OCIOSO', 'V_TEMPO_PROD_MED_DIA_ATIVIDADE']].sum() / 60 / 60\n",
    "\n",
    "# rounding columns dataset\n",
    "dt_group = dt_group.round(2)\n",
    "\n",
    "# Display first 5 rows of dataset update\n",
    "dt_group.head(5)\n",
    "\n",
    "# ------ For Check: db_resumo.query('DT_APONTAMENTO == \"07/03/2019\"')"
   ]
  },
  {
   "cell_type": "markdown",
   "metadata": {
    "hideCode": true,
    "hidePrompt": true
   },
   "source": [
    "---\n",
    "\n",
    "### 4. Salvando o dataset agrupado por Dia / Equipto / Atividade\n",
    "\n",
    "---"
   ]
  },
  {
   "cell_type": "code",
   "execution_count": 3,
   "metadata": {
    "scrolled": true
   },
   "outputs": [],
   "source": [
    "# Saving the dataset\n",
    "dt_group.to_csv('dir_db\\dt_group.csv', encoding='utf-8', index=True)"
   ]
  },
  {
   "cell_type": "markdown",
   "metadata": {
    "hideCode": true,
    "hidePrompt": true
   },
   "source": [
    "---\n",
    "\n",
    "### 5. Lendo o dataset agrupado\n",
    "\n",
    "---"
   ]
  },
  {
   "cell_type": "code",
   "execution_count": 110,
   "metadata": {
    "scrolled": true
   },
   "outputs": [
    {
     "data": {
      "text/html": [
       "<div>\n",
       "<style scoped>\n",
       "    .dataframe tbody tr th:only-of-type {\n",
       "        vertical-align: middle;\n",
       "    }\n",
       "\n",
       "    .dataframe tbody tr th {\n",
       "        vertical-align: top;\n",
       "    }\n",
       "\n",
       "    .dataframe thead th {\n",
       "        text-align: right;\n",
       "    }\n",
       "</style>\n",
       "<table border=\"1\" class=\"dataframe\">\n",
       "  <thead>\n",
       "    <tr style=\"text-align: right;\">\n",
       "      <th></th>\n",
       "      <th>DT_APONTAMENTO</th>\n",
       "      <th>ANO</th>\n",
       "      <th>MES</th>\n",
       "      <th>CD_EQUIPAMENTO</th>\n",
       "      <th>CD_ATIVIDADE</th>\n",
       "      <th>NM_ATIVIDADE</th>\n",
       "      <th>FG_ATIVIDADE_PRODUTIVA</th>\n",
       "      <th>FG_ATIVIDADE_MANUTENCAO</th>\n",
       "      <th>VA_TEMPO_MOTOR_LIGADO</th>\n",
       "      <th>VA_TEMPO_MOTOR_OCIOSO</th>\n",
       "      <th>V_TEMPO_PROD_MED_DIA_ATIVIDADE</th>\n",
       "    </tr>\n",
       "  </thead>\n",
       "  <tbody>\n",
       "    <tr>\n",
       "      <td>0</td>\n",
       "      <td>01/03/2019</td>\n",
       "      <td>2019</td>\n",
       "      <td>3</td>\n",
       "      <td>225271</td>\n",
       "      <td>1910</td>\n",
       "      <td>Chuva / Excesso Umidade</td>\n",
       "      <td>0</td>\n",
       "      <td>0</td>\n",
       "      <td>0.06</td>\n",
       "      <td>0.04</td>\n",
       "      <td>23.50</td>\n",
       "    </tr>\n",
       "    <tr>\n",
       "      <td>1</td>\n",
       "      <td>01/03/2019</td>\n",
       "      <td>2019</td>\n",
       "      <td>3</td>\n",
       "      <td>225271</td>\n",
       "      <td>1970</td>\n",
       "      <td>Deslocamento Por Km / Horimetro</td>\n",
       "      <td>0</td>\n",
       "      <td>0</td>\n",
       "      <td>0.45</td>\n",
       "      <td>0.02</td>\n",
       "      <td>0.50</td>\n",
       "    </tr>\n",
       "    <tr>\n",
       "      <td>2</td>\n",
       "      <td>01/03/2019</td>\n",
       "      <td>2019</td>\n",
       "      <td>3</td>\n",
       "      <td>225272</td>\n",
       "      <td>1910</td>\n",
       "      <td>Chuva / Excesso Umidade</td>\n",
       "      <td>0</td>\n",
       "      <td>0</td>\n",
       "      <td>0.27</td>\n",
       "      <td>0.21</td>\n",
       "      <td>24.00</td>\n",
       "    </tr>\n",
       "    <tr>\n",
       "      <td>3</td>\n",
       "      <td>01/03/2019</td>\n",
       "      <td>2019</td>\n",
       "      <td>3</td>\n",
       "      <td>225274</td>\n",
       "      <td>1911</td>\n",
       "      <td>Encalhado</td>\n",
       "      <td>0</td>\n",
       "      <td>0</td>\n",
       "      <td>0.34</td>\n",
       "      <td>0.00</td>\n",
       "      <td>24.00</td>\n",
       "    </tr>\n",
       "    <tr>\n",
       "      <td>4</td>\n",
       "      <td>01/03/2019</td>\n",
       "      <td>2019</td>\n",
       "      <td>3</td>\n",
       "      <td>225398</td>\n",
       "      <td>1130</td>\n",
       "      <td>Corte Mecanico</td>\n",
       "      <td>1</td>\n",
       "      <td>0</td>\n",
       "      <td>0.02</td>\n",
       "      <td>0.00</td>\n",
       "      <td>0.02</td>\n",
       "    </tr>\n",
       "  </tbody>\n",
       "</table>\n",
       "</div>"
      ],
      "text/plain": [
       "  DT_APONTAMENTO   ANO  MES  CD_EQUIPAMENTO  CD_ATIVIDADE  \\\n",
       "0     01/03/2019  2019    3          225271          1910   \n",
       "1     01/03/2019  2019    3          225271          1970   \n",
       "2     01/03/2019  2019    3          225272          1910   \n",
       "3     01/03/2019  2019    3          225274          1911   \n",
       "4     01/03/2019  2019    3          225398          1130   \n",
       "\n",
       "                      NM_ATIVIDADE  FG_ATIVIDADE_PRODUTIVA  \\\n",
       "0          Chuva / Excesso Umidade                       0   \n",
       "1  Deslocamento Por Km / Horimetro                       0   \n",
       "2          Chuva / Excesso Umidade                       0   \n",
       "3                        Encalhado                       0   \n",
       "4                   Corte Mecanico                       1   \n",
       "\n",
       "   FG_ATIVIDADE_MANUTENCAO  VA_TEMPO_MOTOR_LIGADO  VA_TEMPO_MOTOR_OCIOSO  \\\n",
       "0                        0                   0.06                   0.04   \n",
       "1                        0                   0.45                   0.02   \n",
       "2                        0                   0.27                   0.21   \n",
       "3                        0                   0.34                   0.00   \n",
       "4                        0                   0.02                   0.00   \n",
       "\n",
       "   V_TEMPO_PROD_MED_DIA_ATIVIDADE  \n",
       "0                           23.50  \n",
       "1                            0.50  \n",
       "2                           24.00  \n",
       "3                           24.00  \n",
       "4                            0.02  "
      ]
     },
     "execution_count": 110,
     "metadata": {},
     "output_type": "execute_result"
    }
   ],
   "source": [
    "# Search the database\n",
    "archive = ('dir_db/dt_group.csv')\n",
    "\n",
    "# Read and select columns\n",
    "dataset = pd.read_csv(archive, sep=',')\n",
    "\n",
    "# Print first 10 rows of dataset\n",
    "dataset.head(5)"
   ]
  },
  {
   "cell_type": "markdown",
   "metadata": {
    "hideCode": true,
    "hidePrompt": true
   },
   "source": [
    "---\n",
    "\n",
    "### 6. Agrupando diversos datasets: por Ano / Mes / Atividade\n",
    "\n",
    "---"
   ]
  },
  {
   "cell_type": "code",
   "execution_count": 111,
   "metadata": {
    "hideCode": false,
    "hidePrompt": true
   },
   "outputs": [],
   "source": [
    "dt_year_month = dataset.groupby([dataset['ANO'], dataset['MES'], 'CD_ATIVIDADE', 'NM_ATIVIDADE', 'FG_ATIVIDADE_PRODUTIVA', 'FG_ATIVIDADE_MANUTENCAO'])[['VA_TEMPO_MOTOR_LIGADO', 'VA_TEMPO_MOTOR_OCIOSO', 'V_TEMPO_PROD_MED_DIA_ATIVIDADE']].sum()\n",
    "# rounding columns dataset\n",
    "dt_year_month = dt_year_month.round(2)\n",
    "\n",
    "dt_year = dataset.groupby([dataset['ANO'], 'CD_ATIVIDADE', 'NM_ATIVIDADE', 'FG_ATIVIDADE_PRODUTIVA', 'FG_ATIVIDADE_MANUTENCAO'])[['VA_TEMPO_MOTOR_LIGADO', 'VA_TEMPO_MOTOR_OCIOSO', 'V_TEMPO_PROD_MED_DIA_ATIVIDADE']].sum()\n",
    "# rounding columns dataset\n",
    "dt_year = dt_year.round(2)\n",
    "\n",
    "dt_prod = dataset.groupby([dataset['ANO'], 'FG_ATIVIDADE_PRODUTIVA', 'NM_ATIVIDADE'])[['CD_ATIVIDADE']].count()\n",
    "# rounding columns dataset\n",
    "dt_prod = dt_prod.round(2)"
   ]
  },
  {
   "cell_type": "markdown",
   "metadata": {
    "hideCode": true,
    "hidePrompt": true
   },
   "source": [
    "---\n",
    "\n",
    "### 7. Salvando\n",
    "\n",
    "---"
   ]
  },
  {
   "cell_type": "code",
   "execution_count": 112,
   "metadata": {
    "hideCode": false,
    "hidePrompt": false
   },
   "outputs": [],
   "source": [
    "# Saving the datasets\n",
    "dt_year_month.to_csv('dir_db\\\\dt_year_month.csv', encoding='utf-8', index=True)\n",
    "dt_year.to_csv('dir_db\\\\dt_year.csv', encoding='utf-8', index=True)\n",
    "dt_prod.to_csv('dir_db\\\\dt_prod.csv', encoding='utf-8', index=True)"
   ]
  },
  {
   "cell_type": "markdown",
   "metadata": {},
   "source": [
    "---\n",
    "\n",
    "### 8. Lendo os datasets\n",
    "\n",
    "---"
   ]
  },
  {
   "cell_type": "code",
   "execution_count": 113,
   "metadata": {
    "hideCode": false,
    "hidePrompt": true
   },
   "outputs": [],
   "source": [
    "# Search the database\n",
    "archive_year_month = ('dir_db/dt_year_month.csv')\n",
    "archive_year = ('dir_db/dt_year.csv')\n",
    "archive_prod = ('dir_db/dt_prod.csv')\n",
    "\n",
    "# Read and select columns\n",
    "dt_year_month = pd.read_csv(archive_year_month, sep=',')\n",
    "dt_year = pd.read_csv(archive_year, sep=',')\n",
    "dt_prod = pd.read_csv(archive_prod, sep=',')"
   ]
  },
  {
   "cell_type": "code",
   "execution_count": null,
   "metadata": {},
   "outputs": [],
   "source": []
  },
  {
   "cell_type": "code",
   "execution_count": null,
   "metadata": {},
   "outputs": [],
   "source": []
  },
  {
   "cell_type": "code",
   "execution_count": null,
   "metadata": {},
   "outputs": [],
   "source": []
  },
  {
   "cell_type": "code",
   "execution_count": null,
   "metadata": {},
   "outputs": [],
   "source": []
  },
  {
   "cell_type": "markdown",
   "metadata": {},
   "source": []
  },
  {
   "cell_type": "markdown",
   "metadata": {},
   "source": [
    "---\n",
    "\n",
    "##  GRÁFICOS\n",
    "\n",
    "---\n",
    "\n",
    "###  + Atividades Improdutivas\n",
    "\n"
   ]
  },
  {
   "cell_type": "markdown",
   "metadata": {},
   "source": []
  },
  {
   "cell_type": "code",
   "execution_count": null,
   "metadata": {},
   "outputs": [],
   "source": [
    "import plotly.express as px\n",
    "data = px.data.gapminder()\n",
    "\n",
    "plot_19 = dt_year_month.query(\"ANO == 2019 and FG_ATIVIDADE_MANUTENCAO == 1 and CD_ATIVIDADE == 1905\")\n",
    "#plot_20 = dt_year_month.query(\"ANO == 2020 and FG_ATIVIDADE_MANUTENCAO == 1 and CD_ATIVIDADE == 1905\")\n",
    "\n",
    "fig = px.bar(plot_19, x='MES', y='V_TEMPO_PROD_MED_DIA_ATIVIDADE',\n",
    "             hover_data=['ANO', 'NM_ATIVIDADE'], color='V_TEMPO_PROD_MED_DIA_ATIVIDADE',\n",
    "             labels={'pop':'teste'}, height=500)\n",
    "\n",
    "#fig = px.bar(plot_20, x='MES', y='V_TEMPO_PROD_MED_DIA_ATIVIDADE',\n",
    "#             hover_data=['ANO', 'NM_ATIVIDADE'], color='V_TEMPO_PROD_MED_DIA_ATIVIDADE',\n",
    "#             labels={'pop':'teste'}, height=500)\n",
    "fig.show()"
   ]
  },
  {
   "cell_type": "code",
   "execution_count": null,
   "metadata": {},
   "outputs": [],
   "source": []
  },
  {
   "cell_type": "code",
   "execution_count": null,
   "metadata": {},
   "outputs": [],
   "source": [
    "atv_1 = dt_year.query(\"CD_ATIVIDADE == 1903\")  # Aguardando Caminhão\n",
    "atv_2 = dt_year.query(\"CD_ATIVIDADE == 1939\")  # Aguardando Transbordo\n",
    "atv_3 = dt_year.query(\"CD_ATIVIDADE == 1964\")  # Fila Indústria\n",
    "dt_cm = dt_year.query(\"CD_ATIVIDADE == 1130\")  # Corte Mecânico\n",
    "\n",
    "improd = pd.concat([atv_1, atv_2, atv_3], ignore_index=True)\n",
    "improd['CD_ATIVIDADE'] = 9999\n",
    "\n",
    "dt_improd = pd.concat([improd, dt_cm], ignore_index=True)\n",
    "dt_improd = dt_improd.groupby([dt_improd['ANO'], 'CD_ATIVIDADE'])[['V_TEMPO_PROD_MED_DIA_ATIVIDADE']].sum()\n",
    "\n",
    "# Saving the datasets\n",
    "dt_improd.to_csv('dir_db\\\\dt_improd.csv', encoding='utf-8', index=True)\n",
    "\n",
    "# import\n",
    "archive_dt_improd = ('dir_db/dt_improd.csv')\n",
    "# read\n",
    "dt_improd = pd.read_csv(archive_dt_improd, sep=',')\n",
    "\n",
    "years = dt_improd.ANO\n",
    "v_improd = dt_improd.query('CD_ATIVIDADE != 1130')\n",
    "v_prod = dt_improd.query('CD_ATIVIDADE == 1130')\n",
    "\n",
    "\n",
    "################################## GRAPH\n",
    "\n",
    "import plotly.graph_objects as go\n",
    "\n",
    "colors = ['lightslategray',] * 4\n",
    "colors[1] = 'crimson'\n",
    "\n",
    "fig = go.Figure()\n",
    "fig.add_trace(go.Bar(x=v_improd.ANO,\n",
    "                y=v_improd.V_TEMPO_PROD_MED_DIA_ATIVIDADE,\n",
    "                name='Horas Improdutivas',\n",
    "                marker_color='crimson' # rgb(55, 83, 109)\n",
    "                ))\n",
    "fig.add_trace(go.Bar(x=v_improd.ANO,\n",
    "                y=v_prod.V_TEMPO_PROD_MED_DIA_ATIVIDADE,\n",
    "                name='Corte Mecânico',\n",
    "                marker_color='rgb(26, 118, 255)'\n",
    "                ))\n",
    "\n",
    "fig.update_layout(\n",
    "    title='Influência das Horas Improdutivas Sobre o Corte Mecânico',\n",
    "    xaxis_tickfont_size=14,\n",
    "    yaxis=dict(\n",
    "        title='Horas (h)',\n",
    "        titlefont_size=16,\n",
    "        tickfont_size=14,\n",
    "    ),\n",
    "    legend=dict(\n",
    "        x=0,\n",
    "        y=1.0,\n",
    "        bgcolor='rgba(255, 255, 255, 0)',\n",
    "        bordercolor='rgba(255, 255, 255, 0)'\n",
    "    ),\n",
    "    barmode='group',\n",
    "    bargap=0.15, # gap between bars of adjacent location coordinates.\n",
    "    bargroupgap=0.1 # gap between bars of the same location coordinate.\n",
    ")\n",
    "fig.show()"
   ]
  },
  {
   "cell_type": "code",
   "execution_count": null,
   "metadata": {},
   "outputs": [],
   "source": []
  },
  {
   "cell_type": "code",
   "execution_count": null,
   "metadata": {},
   "outputs": [],
   "source": [
    "atv_1 = dt_year.query(\"CD_ATIVIDADE == 1130\")  # Corte Mecânico\n",
    "atv_2 = dt_year.query(\"CD_ATIVIDADE == 2000\")  # Manobra\n",
    "atv_3 = dt_year.query(\"CD_ATIVIDADE == 2001\")  # Arremate\n",
    "atv_4 = dt_year.query(\"CD_ATIVIDADE == 2002\")  # Esvaziamento\n",
    "atv_5 = dt_year.query(\"CD_ATIVIDADE == 1942\")  # Desembuchamento\n",
    "\n",
    "prod = pd.concat([atv_1, atv_2, atv_3, atv_4, atv_5], ignore_index=True)\n",
    "prod['CD_ATIVIDADE'] = 1130\n",
    "\n",
    "dt_prod = prod.groupby([prod['ANO'], 'CD_ATIVIDADE'])[['V_TEMPO_PROD_MED_DIA_ATIVIDADE']].sum()\n",
    "\n",
    "# Saving the datasets\n",
    "dt_prod.to_csv('dir_db\\\\dt_prod.csv', encoding='utf-8', index=True)\n",
    "\n",
    "# import\n",
    "archive_dt_prod = ('dir_db/dt_prod.csv')\n",
    "# read\n",
    "dt_prod = pd.read_csv(archive_dt_prod, sep=',')\n",
    "\n",
    "#years = dt_prod.ANO\n",
    "#v_prod = dt_prod.CD_ATIVIDADE\n",
    "\n",
    "\n",
    "\n",
    "################################## GRAPH\n",
    "\n",
    "import plotly.graph_objects as go\n",
    "\n",
    "colors = ['lightslategray',] * 4\n",
    "colors[1] = 'crimson'\n",
    "\n",
    "fig = go.Figure()\n",
    "\n",
    "fig.add_trace(go.Bar(x=dt_prod.ANO,\n",
    "                y=dt_prod.V_TEMPO_PROD_MED_DIA_ATIVIDADE,\n",
    "                name='Corte Mecânico',\n",
    "                marker_color='rgb(26, 118, 255)'\n",
    "                ))\n",
    "\n",
    "fig.update_layout(\n",
    "    title='Influência das Horas Improdutivas Sobre o Corte Mecânico',\n",
    "    xaxis_tickfont_size=14,\n",
    "    yaxis=dict(\n",
    "        title='Horas (h)',\n",
    "        titlefont_size=16,\n",
    "        tickfont_size=14,\n",
    "    ),\n",
    "    legend=dict(\n",
    "        x=0,\n",
    "        y=1.0,\n",
    "        bgcolor='rgba(255, 255, 255, 0)',\n",
    "        bordercolor='rgba(255, 255, 255, 0)'\n",
    "    ),\n",
    "    barmode='group',\n",
    "    bargap=0.15, # gap between bars of adjacent location coordinates.\n",
    "    bargroupgap=0.1 # gap between bars of the same location coordinate.\n",
    ")\n",
    "fig.show()\n"
   ]
  },
  {
   "cell_type": "markdown",
   "metadata": {},
   "source": [
    "---\n",
    "+ traçar gráfico somando as improdutivas: \n",
    "+ FG_ATIVIDADE_MANUTENCAO == 1 \n",
    "* X \n",
    "+ FG_ATIVIDADE_MANUTENCAO == 0\n",
    "---"
   ]
  },
  {
   "cell_type": "code",
   "execution_count": 139,
   "metadata": {},
   "outputs": [],
   "source": [
    "horas_tot_19 = dt_year.query('ANO == 2019')\n",
    "horas_tot_19 = (horas_tot_19['V_TEMPO_PROD_MED_DIA_ATIVIDADE'].sum() * 1)\n",
    "\n",
    "horas_tot_20 = dt_year.query('ANO == 2020')\n",
    "horas_tot_20 = (horas_tot_20['V_TEMPO_PROD_MED_DIA_ATIVIDADE'].sum() * 1)\n"
   ]
  },
  {
   "cell_type": "code",
   "execution_count": null,
   "metadata": {},
   "outputs": [],
   "source": []
  },
  {
   "cell_type": "code",
   "execution_count": null,
   "metadata": {},
   "outputs": [],
   "source": []
  },
  {
   "cell_type": "code",
   "execution_count": 145,
   "metadata": {
    "hideOutput": false
   },
   "outputs": [
    {
     "data": {
      "text/html": [
       "<div>\n",
       "<style scoped>\n",
       "    .dataframe tbody tr th:only-of-type {\n",
       "        vertical-align: middle;\n",
       "    }\n",
       "\n",
       "    .dataframe tbody tr th {\n",
       "        vertical-align: top;\n",
       "    }\n",
       "\n",
       "    .dataframe thead th {\n",
       "        text-align: right;\n",
       "    }\n",
       "</style>\n",
       "<table border=\"1\" class=\"dataframe\">\n",
       "  <thead>\n",
       "    <tr style=\"text-align: right;\">\n",
       "      <th></th>\n",
       "      <th>ANO</th>\n",
       "      <th>CD_ATIVIDADE</th>\n",
       "      <th>V_TEMPO_PROD_MED_DIA_ATIVIDADE</th>\n",
       "      <th>%_ATV</th>\n",
       "    </tr>\n",
       "  </thead>\n",
       "  <tbody>\n",
       "    <tr>\n",
       "      <td>0</td>\n",
       "      <td>2019</td>\n",
       "      <td>Clima</td>\n",
       "      <td>24836.94</td>\n",
       "      <td>15.29</td>\n",
       "    </tr>\n",
       "    <tr>\n",
       "      <td>1</td>\n",
       "      <td>2020</td>\n",
       "      <td>Clima</td>\n",
       "      <td>18410.19</td>\n",
       "      <td>11.32</td>\n",
       "    </tr>\n",
       "  </tbody>\n",
       "</table>\n",
       "</div>"
      ],
      "text/plain": [
       "    ANO CD_ATIVIDADE  V_TEMPO_PROD_MED_DIA_ATIVIDADE  %_ATV\n",
       "0  2019        Clima                        24836.94  15.29\n",
       "1  2020        Clima                        18410.19  11.32"
      ]
     },
     "execution_count": 145,
     "metadata": {},
     "output_type": "execute_result"
    }
   ],
   "source": [
    "atv_1 = dt_year.query(\"CD_ATIVIDADE == 1910\")  # Chuva / Escesso de Umidade\n",
    "atv_2 = dt_year.query(\"CD_ATIVIDADE == 1921\")  # Outros Fatores Climáticos\n",
    "atv_3 = dt_year.query(\"CD_ATIVIDADE == 1935\")  # Incêndio\n",
    "\n",
    "dt_clima = pd.concat([atv_1, atv_2, atv_3], ignore_index=True)\n",
    "dt_clima['CD_ATIVIDADE'] = \"Clima\"\n",
    "dt_clima['%_ATV'] = np.where(dt_clima['ANO'] == 2019, round(dt_clima['V_TEMPO_PROD_MED_DIA_ATIVIDADE'] / horas_tot_19 * 100,2) , round(dt_clima['V_TEMPO_PROD_MED_DIA_ATIVIDADE'] / horas_tot_20 * 100,2))\n",
    "\n",
    "\n",
    "dt_clima = dt_clima.groupby([dt_clima['ANO'], 'CD_ATIVIDADE'])[['V_TEMPO_PROD_MED_DIA_ATIVIDADE', '%_ATV']].sum()\n",
    "\n",
    "# Saving the datasets\n",
    "dt_clima.to_csv('dir_db\\\\dt_clima.csv', encoding='utf-8', index=True)\n",
    "\n",
    "# import\n",
    "archive_dt_clima = ('dir_db/dt_clima.csv')\n",
    "# read\n",
    "dt_clima = pd.read_csv(archive_dt_clima, sep=',')\n",
    "\n",
    "dt_clima"
   ]
  },
  {
   "cell_type": "code",
   "execution_count": null,
   "metadata": {},
   "outputs": [],
   "source": []
  },
  {
   "cell_type": "code",
   "execution_count": 141,
   "metadata": {},
   "outputs": [
    {
     "data": {
      "text/html": [
       "<div>\n",
       "<style scoped>\n",
       "    .dataframe tbody tr th:only-of-type {\n",
       "        vertical-align: middle;\n",
       "    }\n",
       "\n",
       "    .dataframe tbody tr th {\n",
       "        vertical-align: top;\n",
       "    }\n",
       "\n",
       "    .dataframe thead th {\n",
       "        text-align: right;\n",
       "    }\n",
       "</style>\n",
       "<table border=\"1\" class=\"dataframe\">\n",
       "  <thead>\n",
       "    <tr style=\"text-align: right;\">\n",
       "      <th></th>\n",
       "      <th>ANO</th>\n",
       "      <th>CD_ATIVIDADE</th>\n",
       "      <th>V_TEMPO_PROD_MED_DIA_ATIVIDADE</th>\n",
       "      <th>%_ATV</th>\n",
       "    </tr>\n",
       "  </thead>\n",
       "  <tbody>\n",
       "    <tr>\n",
       "      <td>0</td>\n",
       "      <td>2019</td>\n",
       "      <td>Manutencao</td>\n",
       "      <td>16677.53</td>\n",
       "      <td>10.27</td>\n",
       "    </tr>\n",
       "    <tr>\n",
       "      <td>1</td>\n",
       "      <td>2020</td>\n",
       "      <td>Manutencao</td>\n",
       "      <td>24598.16</td>\n",
       "      <td>15.13</td>\n",
       "    </tr>\n",
       "  </tbody>\n",
       "</table>\n",
       "</div>"
      ],
      "text/plain": [
       "    ANO CD_ATIVIDADE  V_TEMPO_PROD_MED_DIA_ATIVIDADE  %_ATV\n",
       "0  2019   Manutencao                        16677.53  10.27\n",
       "1  2020   Manutencao                        24598.16  15.13"
      ]
     },
     "execution_count": 141,
     "metadata": {},
     "output_type": "execute_result"
    }
   ],
   "source": [
    "atv_1 = dt_year.query(\"FG_ATIVIDADE_MANUTENCAO == 1\")  # Todas paradas por manutenção\n",
    "\n",
    "dt_manut = pd.concat([atv_1], ignore_index=True)\n",
    "dt_manut['CD_ATIVIDADE'] = \"Manutencao\"\n",
    "dt_manut['%_ATV'] = np.where(dt_manut['ANO'] == 2019, round(dt_manut['V_TEMPO_PROD_MED_DIA_ATIVIDADE'] / horas_tot_19 * 100,2) , round(dt_manut['V_TEMPO_PROD_MED_DIA_ATIVIDADE'] / horas_tot_20 * 100,2))\n",
    "\n",
    "dt_manut = dt_manut.groupby([dt_manut['ANO'], 'CD_ATIVIDADE'])[['V_TEMPO_PROD_MED_DIA_ATIVIDADE', '%_ATV']].sum()\n",
    "\n",
    "# Saving the datasets\n",
    "dt_manut.to_csv('dir_db\\\\dt_manut.csv', encoding='utf-8', index=True)\n",
    "\n",
    "# import\n",
    "archive_dt_manut = ('dir_db/dt_manut.csv')\n",
    "# read\n",
    "dt_manut = pd.read_csv(archive_dt_manut, sep=',')\n",
    "\n",
    "dt_manut"
   ]
  },
  {
   "cell_type": "code",
   "execution_count": 150,
   "metadata": {},
   "outputs": [
    {
     "data": {
      "text/html": [
       "<div>\n",
       "<style scoped>\n",
       "    .dataframe tbody tr th:only-of-type {\n",
       "        vertical-align: middle;\n",
       "    }\n",
       "\n",
       "    .dataframe tbody tr th {\n",
       "        vertical-align: top;\n",
       "    }\n",
       "\n",
       "    .dataframe thead th {\n",
       "        text-align: right;\n",
       "    }\n",
       "</style>\n",
       "<table border=\"1\" class=\"dataframe\">\n",
       "  <thead>\n",
       "    <tr style=\"text-align: right;\">\n",
       "      <th></th>\n",
       "      <th>ANO</th>\n",
       "      <th>CD_ATIVIDADE</th>\n",
       "      <th>NM_ATIVIDADE</th>\n",
       "      <th>FG_ATIVIDADE_PRODUTIVA</th>\n",
       "      <th>FG_ATIVIDADE_MANUTENCAO</th>\n",
       "      <th>VA_TEMPO_MOTOR_LIGADO</th>\n",
       "      <th>VA_TEMPO_MOTOR_OCIOSO</th>\n",
       "      <th>V_TEMPO_PROD_MED_DIA_ATIVIDADE</th>\n",
       "    </tr>\n",
       "  </thead>\n",
       "  <tbody>\n",
       "  </tbody>\n",
       "</table>\n",
       "</div>"
      ],
      "text/plain": [
       "Empty DataFrame\n",
       "Columns: [ANO, CD_ATIVIDADE, NM_ATIVIDADE, FG_ATIVIDADE_PRODUTIVA, FG_ATIVIDADE_MANUTENCAO, VA_TEMPO_MOTOR_LIGADO, VA_TEMPO_MOTOR_OCIOSO, V_TEMPO_PROD_MED_DIA_ATIVIDADE]\n",
       "Index: []"
      ]
     },
     "execution_count": 150,
     "metadata": {},
     "output_type": "execute_result"
    }
   ],
   "source": [
    "atv_4"
   ]
  },
  {
   "cell_type": "code",
   "execution_count": 153,
   "metadata": {},
   "outputs": [
    {
     "data": {
      "text/html": [
       "<div>\n",
       "<style scoped>\n",
       "    .dataframe tbody tr th:only-of-type {\n",
       "        vertical-align: middle;\n",
       "    }\n",
       "\n",
       "    .dataframe tbody tr th {\n",
       "        vertical-align: top;\n",
       "    }\n",
       "\n",
       "    .dataframe thead th {\n",
       "        text-align: right;\n",
       "    }\n",
       "</style>\n",
       "<table border=\"1\" class=\"dataframe\">\n",
       "  <thead>\n",
       "    <tr style=\"text-align: right;\">\n",
       "      <th></th>\n",
       "      <th>ANO</th>\n",
       "      <th>CD_ATIVIDADE</th>\n",
       "      <th>V_TEMPO_PROD_MED_DIA_ATIVIDADE</th>\n",
       "      <th>%_ATV</th>\n",
       "    </tr>\n",
       "  </thead>\n",
       "  <tbody>\n",
       "    <tr>\n",
       "      <td>0</td>\n",
       "      <td>2019</td>\n",
       "      <td>Operacao</td>\n",
       "      <td>32574.81</td>\n",
       "      <td>20.06</td>\n",
       "    </tr>\n",
       "    <tr>\n",
       "      <td>1</td>\n",
       "      <td>2020</td>\n",
       "      <td>Operacao</td>\n",
       "      <td>30807.68</td>\n",
       "      <td>18.93</td>\n",
       "    </tr>\n",
       "  </tbody>\n",
       "</table>\n",
       "</div>"
      ],
      "text/plain": [
       "    ANO CD_ATIVIDADE  V_TEMPO_PROD_MED_DIA_ATIVIDADE  %_ATV\n",
       "0  2019     Operacao                        32574.81  20.06\n",
       "1  2020     Operacao                        30807.68  18.93"
      ]
     },
     "execution_count": 153,
     "metadata": {},
     "output_type": "execute_result"
    }
   ],
   "source": [
    "atv_1 = dt_year.query(\"FG_ATIVIDADE_MANUTENCAO == 0 and FG_ATIVIDADE_PRODUTIVA == 0\")  # Todas paradas diferentes de manutenção e improdutivas\n",
    "atv_2 = atv_1.query(\"CD_ATIVIDADE != 1910\")  # Chuva / Escesso de Umidade\n",
    "atv_3 = atv_2.query(\"CD_ATIVIDADE != 1921\")  # Outros Fatores Climáticos\n",
    "atv_4 = atv_3.query(\"CD_ATIVIDADE != 1935\")  # Incêndio\n",
    "\n",
    "dt_oper = pd.concat([atv_4], ignore_index=True)\n",
    "dt_oper['CD_ATIVIDADE'] = \"Operacao\"\n",
    "dt_oper['%_ATV'] = np.where(dt_oper['ANO'] == 2019, round(dt_oper['V_TEMPO_PROD_MED_DIA_ATIVIDADE'] / horas_tot_19 * 100,2) , round(dt_oper['V_TEMPO_PROD_MED_DIA_ATIVIDADE'] / horas_tot_20 * 100,2))\n",
    "\n",
    "dt_oper = dt_oper.groupby([dt_oper['ANO'], 'CD_ATIVIDADE'])[['V_TEMPO_PROD_MED_DIA_ATIVIDADE', '%_ATV']].sum()\n",
    "\n",
    "# Saving the datasets\n",
    "dt_oper.to_csv('dir_db\\\\dt_oper.csv', encoding='utf-8', index=True)\n",
    "\n",
    "# import\n",
    "archive_dt_oper = ('dir_db/dt_oper.csv')\n",
    "# read\n",
    "dt_oper = pd.read_csv(archive_dt_oper, sep=',')\n",
    "\n",
    "dt_oper"
   ]
  },
  {
   "cell_type": "code",
   "execution_count": null,
   "metadata": {},
   "outputs": [],
   "source": []
  },
  {
   "cell_type": "code",
   "execution_count": null,
   "metadata": {},
   "outputs": [],
   "source": []
  },
  {
   "cell_type": "code",
   "execution_count": 154,
   "metadata": {},
   "outputs": [
    {
     "data": {
      "text/html": [
       "<div>\n",
       "<style scoped>\n",
       "    .dataframe tbody tr th:only-of-type {\n",
       "        vertical-align: middle;\n",
       "    }\n",
       "\n",
       "    .dataframe tbody tr th {\n",
       "        vertical-align: top;\n",
       "    }\n",
       "\n",
       "    .dataframe thead th {\n",
       "        text-align: right;\n",
       "    }\n",
       "</style>\n",
       "<table border=\"1\" class=\"dataframe\">\n",
       "  <thead>\n",
       "    <tr style=\"text-align: right;\">\n",
       "      <th></th>\n",
       "      <th>ANO</th>\n",
       "      <th>CD_ATIVIDADE</th>\n",
       "      <th>V_TEMPO_PROD_MED_DIA_ATIVIDADE</th>\n",
       "      <th>%_ATV</th>\n",
       "    </tr>\n",
       "  </thead>\n",
       "  <tbody>\n",
       "    <tr>\n",
       "      <td>0</td>\n",
       "      <td>2019</td>\n",
       "      <td>Produtivo</td>\n",
       "      <td>88309.64</td>\n",
       "      <td>54.36</td>\n",
       "    </tr>\n",
       "    <tr>\n",
       "      <td>1</td>\n",
       "      <td>2020</td>\n",
       "      <td>Produtivo</td>\n",
       "      <td>88863.84</td>\n",
       "      <td>54.62</td>\n",
       "    </tr>\n",
       "  </tbody>\n",
       "</table>\n",
       "</div>"
      ],
      "text/plain": [
       "    ANO CD_ATIVIDADE  V_TEMPO_PROD_MED_DIA_ATIVIDADE  %_ATV\n",
       "0  2019    Produtivo                        88309.64  54.36\n",
       "1  2020    Produtivo                        88863.84  54.62"
      ]
     },
     "execution_count": 154,
     "metadata": {},
     "output_type": "execute_result"
    }
   ],
   "source": [
    "dt_produtivo = dt_year.query(\"FG_ATIVIDADE_MANUTENCAO == 0 and FG_ATIVIDADE_PRODUTIVA == 1\")  # Todas paradas diferentes de manutenção e improdutivas\n",
    "\n",
    "dt_produtivo = pd.concat([dt_produtivo], ignore_index=True)\n",
    "\n",
    "dt_produtivo['CD_ATIVIDADE'] = \"Produtivo\"\n",
    "dt_produtivo['%_ATV'] = np.where(dt_produtivo['ANO'] == 2019, round(dt_produtivo['V_TEMPO_PROD_MED_DIA_ATIVIDADE'] / horas_tot_19 * 100,2) , round(dt_produtivo['V_TEMPO_PROD_MED_DIA_ATIVIDADE'] / horas_tot_20 * 100,2))\n",
    "\n",
    "dt_produtivo = dt_produtivo.groupby([dt_produtivo['ANO'], 'CD_ATIVIDADE'])[['V_TEMPO_PROD_MED_DIA_ATIVIDADE', '%_ATV']].sum()\n",
    "\n",
    "# Saving the datasets\n",
    "dt_produtivo.to_csv('dir_db\\\\dt_produtivo.csv', encoding='utf-8', index=True)\n",
    "\n",
    "# import\n",
    "archive_dt_produtivo = ('dir_db/dt_produtivo.csv')\n",
    "# read\n",
    "dt_produtivo = pd.read_csv(archive_dt_produtivo, sep=',')\n",
    "\n",
    "dt_produtivo"
   ]
  },
  {
   "cell_type": "code",
   "execution_count": null,
   "metadata": {},
   "outputs": [],
   "source": []
  },
  {
   "cell_type": "code",
   "execution_count": 144,
   "metadata": {},
   "outputs": [
    {
     "data": {
      "text/plain": [
       "0    88309.64\n",
       "1    88863.84\n",
       "Name: V_TEMPO_PROD_MED_DIA_ATIVIDADE, dtype: float64"
      ]
     },
     "execution_count": 144,
     "metadata": {},
     "output_type": "execute_result"
    }
   ],
   "source": []
  },
  {
   "cell_type": "code",
   "execution_count": null,
   "metadata": {},
   "outputs": [],
   "source": []
  },
  {
   "cell_type": "code",
   "execution_count": null,
   "metadata": {},
   "outputs": [],
   "source": []
  },
  {
   "cell_type": "code",
   "execution_count": null,
   "metadata": {},
   "outputs": [],
   "source": []
  },
  {
   "cell_type": "code",
   "execution_count": null,
   "metadata": {},
   "outputs": [],
   "source": []
  },
  {
   "cell_type": "code",
   "execution_count": null,
   "metadata": {},
   "outputs": [],
   "source": []
  },
  {
   "cell_type": "code",
   "execution_count": null,
   "metadata": {},
   "outputs": [],
   "source": []
  },
  {
   "cell_type": "code",
   "execution_count": null,
   "metadata": {},
   "outputs": [],
   "source": []
  },
  {
   "cell_type": "code",
   "execution_count": null,
   "metadata": {},
   "outputs": [],
   "source": []
  },
  {
   "cell_type": "code",
   "execution_count": null,
   "metadata": {
    "hideCode": true,
    "hidePrompt": true
   },
   "outputs": [],
   "source": [
    "import plotly.graph_objects as go\n",
    "\n",
    "df_eqpto = dt_year_month.query(\"CD_ATIVIDADE == 1910\")\n",
    "#df_eqpto = df_eqpto.query(\"EQUIPTO == 1\")\n",
    "df_eqpto = df_eqpto.query(\"FG_ATIVIDADE_PRODUTIVA != 1\")\n",
    "\n",
    "df2019 = df_eqpto.query('ANO==\"2019\"')\n",
    "df2020 = df_eqpto.query('ANO==\"2020\"')\n",
    "\n",
    "fig = go.Figure(data=[   \n",
    "    go.Bar(name='2019', x=df2019.MES, y=df2019.V_TEMPO_PROD_MED_DIA_ATIVIDADE, text=df2019.V_TEMPO_PROD_MED_DIA_ATIVIDADE, textposition='auto'),\n",
    "    go.Bar(name='2020', x=df2020.MES, y=df2020.V_TEMPO_PROD_MED_DIA_ATIVIDADE, text=df2020.V_TEMPO_PROD_MED_DIA_ATIVIDADE, textposition='auto')\n",
    "])\n",
    "\n",
    "#marker_color='crimson'\n",
    "fig.update_traces(marker_line_color='rgb(255,255,255)', marker_line_width=0.5, opacity=0.9)\n",
    "fig.update_traces(texttemplate='%{text:.2s}', textposition='outside')\n",
    "fig.update_layout(uniformtext_minsize=8, uniformtext_mode='hide', title=\"Horas em Chuva - <b>Atividade 1910</b>\")\n",
    "fig.show()"
   ]
  },
  {
   "cell_type": "code",
   "execution_count": null,
   "metadata": {
    "hideCode": true,
    "hidePrompt": true
   },
   "outputs": [],
   "source": [
    "import plotly.graph_objects as go\n",
    "\n",
    "df_eqpto = dt_year_month.query(\"CD_ATIVIDADE == 1905\")\n",
    "#df_eqpto = df_eqpto.query(\"EQUIPTO == 1\")\n",
    "df_eqpto = df_eqpto.query(\"FG_ATIVIDADE_PRODUTIVA != 1\")\n",
    "\n",
    "df2019 = df_eqpto.query('ANO==\"2019\"')\n",
    "df2020 = df_eqpto.query('ANO==\"2020\"')\n",
    "\n",
    "fig = go.Figure(data=[   \n",
    "    go.Bar(name='2019', x=df2019.MES, y=df2019.V_TEMPO_PROD_MED_DIA_ATIVIDADE, text=df2019.V_TEMPO_PROD_MED_DIA_ATIVIDADE, textposition='auto'),\n",
    "    go.Bar(name='2020', x=df2020.MES, y=df2020.V_TEMPO_PROD_MED_DIA_ATIVIDADE, text=df2020.V_TEMPO_PROD_MED_DIA_ATIVIDADE, textposition='auto')\n",
    "])\n",
    "\n",
    "#marker_color='crimson'\n",
    "fig.update_traces(marker_line_color='rgb(255,255,255)', marker_line_width=0.5, opacity=0.9)\n",
    "fig.update_traces(texttemplate='%{text:.2s}', textposition='outside')\n",
    "fig.update_layout(uniformtext_minsize=8, uniformtext_mode='hide', title=\"Horas em Manutenção - <b>Atividade 1905</b>\")\n",
    "fig.show()"
   ]
  },
  {
   "cell_type": "code",
   "execution_count": null,
   "metadata": {
    "hideCode": true,
    "hidePrompt": true
   },
   "outputs": [],
   "source": [
    "import plotly.graph_objects as go\n",
    "\n",
    "df_eqpto = dt_year_month.query(\"CD_ATIVIDADE == 1939\")\n",
    "#df_eqpto = df_eqpto.query(\"CD_EQUIPAMENTO == 1\")\n",
    "df_eqpto = df_eqpto.query(\"FG_ATIVIDADE_PRODUTIVA != 1\")\n",
    "\n",
    "df2019 = df_eqpto.query('ANO==\"2019\"')\n",
    "df2020 = df_eqpto.query('ANO==\"2020\"')\n",
    "\n",
    "fig = go.Figure(data=[   \n",
    "    go.Bar(name='2019', x=df2019.MES, y=df2019.V_TEMPO_PROD_MED_DIA_ATIVIDADE, text=df2019.V_TEMPO_PROD_MED_DIA_ATIVIDADE, textposition='auto'),\n",
    "    go.Bar(name='2020', x=df2020.MES, y=df2020.V_TEMPO_PROD_MED_DIA_ATIVIDADE, text=df2020.V_TEMPO_PROD_MED_DIA_ATIVIDADE, textposition='auto')\n",
    "])\n",
    "\n",
    "#marker_color='crimson'\n",
    "fig.update_traces(marker_line_color='rgb(255,255,255)', marker_line_width=0.5, opacity=0.9)\n",
    "fig.update_traces(texttemplate='%{text:.2s}', textposition='outside')\n",
    "fig.update_layout(uniformtext_minsize=8, uniformtext_mode='hide', title=\"Horas Aguardando Transbordo - <b>Atividade 1939</b>\")\n",
    "fig.show()"
   ]
  },
  {
   "cell_type": "code",
   "execution_count": null,
   "metadata": {
    "hideCode": true,
    "hidePrompt": true
   },
   "outputs": [],
   "source": [
    "import plotly.graph_objects as go\n",
    "\n",
    "df_eqpto = dt_year_month.query(\"CD_ATIVIDADE == 1924\")\n",
    "#df_eqpto = df_eqpto.query(\"EQUIPTO == 1\")\n",
    "df_eqpto = df_eqpto.query(\"FG_ATIVIDADE_PRODUTIVA != 1\")\n",
    "\n",
    "df2019 = df_eqpto.query('ANO==\"2019\"')\n",
    "df2020 = df_eqpto.query('ANO==\"2020\"')\n",
    "\n",
    "fig = go.Figure(data=[   \n",
    "    go.Bar(name='2019', x=df2019.MES, y=df2019.V_TEMPO_PROD_MED_DIA_ATIVIDADE, text=df2019.V_TEMPO_PROD_MED_DIA_ATIVIDADE, textposition='auto'),\n",
    "    go.Bar(name='2020', x=df2020.MES, y=df2020.V_TEMPO_PROD_MED_DIA_ATIVIDADE, text=df2020.V_TEMPO_PROD_MED_DIA_ATIVIDADE, textposition='auto')\n",
    "])\n",
    "\n",
    "#marker_color='crimson'\n",
    "fig.update_traces(marker_line_color='rgb(255,255,255)', marker_line_width=0.5, opacity=0.9)\n",
    "fig.update_traces(texttemplate='%{text:.2s}', textposition='outside')\n",
    "fig.update_layout(uniformtext_minsize=8, uniformtext_mode='hide', title=\"Horas em Pátio - <b>Atividade 1924</b>\")\n",
    "fig.show()"
   ]
  },
  {
   "cell_type": "code",
   "execution_count": null,
   "metadata": {
    "hideCode": true,
    "hidePrompt": true
   },
   "outputs": [],
   "source": [
    "import plotly.graph_objects as go\n",
    "\n",
    "df_eqpto = dt_year_month.query(\"CD_ATIVIDADE == 1903\")\n",
    "#df_eqpto = df_eqpto.query(\"EQUIPTO == 1\")\n",
    "df_eqpto = df_eqpto.query(\"FG_ATIVIDADE_PRODUTIVA != 1\")\n",
    "\n",
    "df2019 = df_eqpto.query('ANO==\"2019\"')\n",
    "df2020 = df_eqpto.query('ANO==\"2020\"')\n",
    "\n",
    "fig = go.Figure(data=[   \n",
    "    go.Bar(name='2019', x=df2019.MES, y=df2019.V_TEMPO_PROD_MED_DIA_ATIVIDADE, text=df2019.V_TEMPO_PROD_MED_DIA_ATIVIDADE, textposition='auto'),\n",
    "    go.Bar(name='2020', x=df2020.MES, y=df2020.V_TEMPO_PROD_MED_DIA_ATIVIDADE, text=df2020.V_TEMPO_PROD_MED_DIA_ATIVIDADE, textposition='auto')\n",
    "])\n",
    "\n",
    "#marker_color='crimson'\n",
    "fig.update_traces(marker_line_color='rgb(255,255,255)', marker_line_width=0.5, opacity=0.9)\n",
    "fig.update_traces(texttemplate='%{text:.2s}', textposition='outside')\n",
    "fig.update_layout(uniformtext_minsize=8, uniformtext_mode='hide', title=\"Horas Aguardando Caminhão - <b>Atividade 903</b>\")\n",
    "fig.show()"
   ]
  },
  {
   "cell_type": "code",
   "execution_count": null,
   "metadata": {
    "hideCode": true,
    "hidePrompt": true
   },
   "outputs": [],
   "source": [
    "import plotly.graph_objects as go\n",
    "\n",
    "df_eqpto = dt_year_month.query(\"CD_ATIVIDADE == 1964\")\n",
    "#df_eqpto = df_eqpto.query(\"EQUIPTO == 1\")\n",
    "df_eqpto = df_eqpto.query(\"FG_ATIVIDADE_PRODUTIVA != 1\")\n",
    "\n",
    "df2019 = df_eqpto.query('ANO==\"2019\"')\n",
    "df2020 = df_eqpto.query('ANO==\"2020\"')\n",
    "\n",
    "fig = go.Figure(data=[   \n",
    "    go.Bar(name='2019', x=df2019.MES, y=df2019.V_TEMPO_PROD_MED_DIA_ATIVIDADE, text=df2019.V_TEMPO_PROD_MED_DIA_ATIVIDADE, textposition='auto'),\n",
    "    go.Bar(name='2020', x=df2020.MES, y=df2020.V_TEMPO_PROD_MED_DIA_ATIVIDADE, text=df2020.V_TEMPO_PROD_MED_DIA_ATIVIDADE, textposition='auto')\n",
    "])\n",
    "\n",
    "#marker_color='crimson'\n",
    "fig.update_traces(marker_line_color='rgb(255,255,255)', marker_line_width=0.5, opacity=0.9)\n",
    "fig.update_traces(texttemplate='%{text:.2s}', textposition='outside')\n",
    "fig.update_layout(uniformtext_minsize=8, uniformtext_mode='hide', title=\"Horas na Fila Indústria - <b>Atividade 1964</b>\")\n",
    "fig.show()"
   ]
  },
  {
   "cell_type": "code",
   "execution_count": null,
   "metadata": {
    "hideCode": true,
    "hidePrompt": true
   },
   "outputs": [],
   "source": [
    "import plotly.graph_objects as go\n",
    "\n",
    "df_eqpto = dt_year_month.query(\"CD_ATIVIDADE == 1943\")\n",
    "#df_eqpto = df_eqpto.query(\"EQUIPTO == 1\")\n",
    "df_eqpto = df_eqpto.query(\"FG_ATIVIDADE_PRODUTIVA != 1\")\n",
    "\n",
    "df2019 = df_eqpto.query('ANO==\"2019\"')\n",
    "df2020 = df_eqpto.query('ANO==\"2020\"')\n",
    "\n",
    "fig = go.Figure(data=[   \n",
    "    go.Bar(name='2019', x=df2019.MES, y=df2019.V_TEMPO_PROD_MED_DIA_ATIVIDADE, text=df2019.V_TEMPO_PROD_MED_DIA_ATIVIDADE, textposition='auto'),\n",
    "    go.Bar(name='2020', x=df2020.MES, y=df2020.V_TEMPO_PROD_MED_DIA_ATIVIDADE, text=df2020.V_TEMPO_PROD_MED_DIA_ATIVIDADE, textposition='auto')\n",
    "])\n",
    "\n",
    "#marker_color='crimson'\n",
    "fig.update_traces(marker_line_color='rgb(255,255,255)', marker_line_width=0.5, opacity=0.9)\n",
    "fig.update_traces(texttemplate='%{text:.2s}', textposition='outside')\n",
    "fig.update_layout(uniformtext_minsize=8, uniformtext_mode='hide', title=\"Horas Lavando / Lubrificando - <b>Atividade 1943</b>\")\n",
    "fig.show()"
   ]
  },
  {
   "cell_type": "code",
   "execution_count": null,
   "metadata": {
    "hideCode": true,
    "hidePrompt": true
   },
   "outputs": [],
   "source": [
    "import plotly.graph_objects as go\n",
    "\n",
    "df_eqpto = dt_year_month.query(\"CD_ATIVIDADE == 1970\")\n",
    "#df_eqpto = df_eqpto.query(\"EQUIPTO == 1\")\n",
    "df_eqpto = df_eqpto.query(\"FG_ATIVIDADE_PRODUTIVA != 1\")\n",
    "\n",
    "df2019 = df_eqpto.query('ANO==\"2019\"')\n",
    "df2020 = df_eqpto.query('ANO==\"2020\"')\n",
    "\n",
    "fig = go.Figure(data=[   \n",
    "    go.Bar(name='2019', x=df2019.MES, y=df2019.V_TEMPO_PROD_MED_DIA_ATIVIDADE, text=df2019.V_TEMPO_PROD_MED_DIA_ATIVIDADE, textposition='auto'),\n",
    "    go.Bar(name='2020', x=df2020.MES, y=df2020.V_TEMPO_PROD_MED_DIA_ATIVIDADE, text=df2020.V_TEMPO_PROD_MED_DIA_ATIVIDADE, textposition='auto')\n",
    "])\n",
    "\n",
    "#marker_color='crimson'\n",
    "fig.update_traces(marker_line_color='rgb(255,255,255)', marker_line_width=0.5, opacity=0.9)\n",
    "fig.update_traces(texttemplate='%{text:.2s}', textposition='outside')\n",
    "fig.update_layout(uniformtext_minsize=8, uniformtext_mode='hide', title=\"Horas em Deslocamento - <b>Atividade 1970</b>\")\n",
    "fig.show()"
   ]
  },
  {
   "cell_type": "code",
   "execution_count": null,
   "metadata": {
    "hideCode": true,
    "hidePrompt": true
   },
   "outputs": [],
   "source": [
    "import plotly.graph_objects as go\n",
    "\n",
    "df_eqpto = dt_year_month.query(\"CD_ATIVIDADE == 1933\")\n",
    "#df_eqpto = df_eqpto.query(\"EQUIPTO == 1\")\n",
    "df_eqpto = df_eqpto.query(\"FG_ATIVIDADE_PRODUTIVA != 1\")\n",
    "\n",
    "df2019 = df_eqpto.query('ANO==\"2019\"')\n",
    "df2020 = df_eqpto.query('ANO==\"2020\"')\n",
    "\n",
    "fig = go.Figure(data=[   \n",
    "    go.Bar(name='2019', x=df2019.MES, y=df2019.V_TEMPO_PROD_MED_DIA_ATIVIDADE, text=df2019.V_TEMPO_PROD_MED_DIA_ATIVIDADE, textposition='auto'),\n",
    "    go.Bar(name='2020', x=df2020.MES, y=df2020.V_TEMPO_PROD_MED_DIA_ATIVIDADE, text=df2020.V_TEMPO_PROD_MED_DIA_ATIVIDADE, textposition='auto')\n",
    "])\n",
    "\n",
    "#marker_color='crimson'\n",
    "fig.update_traces(marker_line_color='rgb(255,255,255)', marker_line_width=0.5, opacity=0.9)\n",
    "fig.update_traces(texttemplate='%{text:.2s}', textposition='outside')\n",
    "fig.update_layout(uniformtext_minsize=8, uniformtext_mode='hide', title=\"Horas em Troca de Facas - <b>Atividade 1933</b>\")\n",
    "fig.show()"
   ]
  },
  {
   "cell_type": "code",
   "execution_count": null,
   "metadata": {
    "hideCode": true,
    "hidePrompt": true
   },
   "outputs": [],
   "source": [
    "import plotly.graph_objects as go\n",
    "\n",
    "df_eqpto = dt_year_month.query(\"CD_ATIVIDADE == 1917\")\n",
    "#df_eqpto = df_eqpto.query(\"EQUIPTO == 1\")\n",
    "df_eqpto = df_eqpto.query(\"FG_ATIVIDADE_PRODUTIVA != 1\")\n",
    "\n",
    "df2019 = df_eqpto.query('ANO==\"2019\"')\n",
    "df2020 = df_eqpto.query('ANO==\"2020\"')\n",
    "\n",
    "fig = go.Figure(data=[   \n",
    "    go.Bar(name='2019', x=df2019.MES, y=df2019.V_TEMPO_PROD_MED_DIA_ATIVIDADE, text=df2019.V_TEMPO_PROD_MED_DIA_ATIVIDADE, textposition='auto'),\n",
    "    go.Bar(name='2020', x=df2020.MES, y=df2020.V_TEMPO_PROD_MED_DIA_ATIVIDADE, text=df2020.V_TEMPO_PROD_MED_DIA_ATIVIDADE, textposition='auto')\n",
    "])\n",
    "\n",
    "#marker_color='crimson'\n",
    "fig.update_traces(marker_line_color='rgb(255,255,255)', marker_line_width=0.5, opacity=0.9)\n",
    "fig.update_traces(texttemplate='%{text:.2s}', textposition='outside')\n",
    "fig.update_layout(uniformtext_minsize=8, uniformtext_mode='hide', title=\"Horas em Mudança Prancha - <b>Atividade 1917</b>\")\n",
    "fig.show()"
   ]
  },
  {
   "cell_type": "code",
   "execution_count": null,
   "metadata": {},
   "outputs": [],
   "source": []
  },
  {
   "cell_type": "code",
   "execution_count": null,
   "metadata": {},
   "outputs": [],
   "source": []
  },
  {
   "cell_type": "markdown",
   "metadata": {},
   "source": [
    "---\n",
    "\n",
    "### + Produtivas\n",
    "\n",
    "---"
   ]
  },
  {
   "cell_type": "code",
   "execution_count": null,
   "metadata": {
    "hideCode": true,
    "hidePrompt": true
   },
   "outputs": [],
   "source": [
    "import plotly.graph_objects as go\n",
    "\n",
    "df_eqpto = dt_year_month.query(\"CD_ATIVIDADE == 1130\")\n",
    "#df_eqpto = df_eqpto.query(\"EQUIPTO == 1\")\n",
    "df_eqpto = df_eqpto.query(\"FG_ATIVIDADE_PRODUTIVA == 1\")\n",
    "\n",
    "df2019 = df_eqpto.query('ANO==\"2019\"')\n",
    "df2020 = df_eqpto.query('ANO==\"2020\"')\n",
    "\n",
    "fig = go.Figure(data=[   \n",
    "    go.Bar(name='2019', x=df2019.MES, y=df2019.VA_TEMPO_MOTOR_LIGADO, text=df2019.VA_TEMPO_MOTOR_LIGADO, textposition='auto'),\n",
    "    go.Bar(name='2020', x=df2020.MES, y=df2020.VA_TEMPO_MOTOR_LIGADO, text=df2020.VA_TEMPO_MOTOR_LIGADO, textposition='auto')\n",
    "])\n",
    "\n",
    "#marker_color='crimson'\n",
    "fig.update_traces(marker_line_color='rgb(255,255,255)', marker_line_width=0.5, opacity=0.9)\n",
    "fig.update_traces(texttemplate='%{text:.2s}', textposition='outside')\n",
    "fig.update_layout(uniformtext_minsize=8, uniformtext_mode='hide', title=\"Horas de Corte Mecânico - <b>Atividade 1130</b>\")\n",
    "fig.show()"
   ]
  },
  {
   "cell_type": "code",
   "execution_count": null,
   "metadata": {
    "hideCode": true,
    "hidePrompt": true
   },
   "outputs": [],
   "source": [
    "import plotly.graph_objects as go\n",
    "\n",
    "df_eqpto = dt_year_month.query(\"CD_ATIVIDADE == 2000\")\n",
    "#df_eqpto = df_eqpto.query(\"EQUIPTO == 1\")\n",
    "df_eqpto = df_eqpto.query(\"FG_ATIVIDADE_PRODUTIVA == 1\")\n",
    "\n",
    "df2019 = df_eqpto.query('ANO==\"2019\"')\n",
    "df2020 = df_eqpto.query('ANO==\"2020\"')\n",
    "\n",
    "fig = go.Figure(data=[   \n",
    "    go.Bar(name='2019', x=df2019.MES, y=df2019.VA_TEMPO_MOTOR_LIGADO, text=df2019.VA_TEMPO_MOTOR_LIGADO, textposition='auto'),\n",
    "    go.Bar(name='2020', x=df2020.MES, y=df2020.VA_TEMPO_MOTOR_LIGADO, text=df2020.VA_TEMPO_MOTOR_LIGADO, textposition='auto')\n",
    "])\n",
    "\n",
    "#marker_color='crimson'\n",
    "fig.update_traces(marker_line_color='rgb(255,255,255)', marker_line_width=0.5, opacity=0.9)\n",
    "fig.update_traces(texttemplate='%{text:.2s}', textposition='outside')\n",
    "fig.update_layout(uniformtext_minsize=8, uniformtext_mode='hide', title=\"Horas em Manobra - <b>Atividade 2000</b>\")\n",
    "fig.show()"
   ]
  },
  {
   "cell_type": "code",
   "execution_count": null,
   "metadata": {
    "hideCode": true,
    "hidePrompt": true
   },
   "outputs": [],
   "source": [
    "import plotly.graph_objects as go\n",
    "\n",
    "df_eqpto = dt_year_month.query(\"CD_ATIVIDADE == 2001\")\n",
    "#df_eqpto = df_eqpto.query(\"EQUIPTO == 1\")\n",
    "df_eqpto = df_eqpto.query(\"FG_ATIVIDADE_PRODUTIVA == 1\")\n",
    "\n",
    "df2019 = df_eqpto.query('ANO==\"2019\"')\n",
    "df2020 = df_eqpto.query('ANO==\"2020\"')\n",
    "\n",
    "fig = go.Figure(data=[   \n",
    "    go.Bar(name='2019', x=df2019.MES, y=df2019.VA_TEMPO_MOTOR_LIGADO, text=df2019.VA_TEMPO_MOTOR_LIGADO, textposition='auto'),\n",
    "    go.Bar(name='2020', x=df2020.MES, y=df2020.VA_TEMPO_MOTOR_LIGADO, text=df2020.VA_TEMPO_MOTOR_LIGADO, textposition='auto')\n",
    "])\n",
    "\n",
    "#marker_color='crimson'\n",
    "fig.update_traces(marker_line_color='rgb(255,255,255)', marker_line_width=0.5, opacity=0.9)\n",
    "fig.update_traces(texttemplate='%{text:.2s}', textposition='outside')\n",
    "fig.update_layout(uniformtext_minsize=8, uniformtext_mode='hide', title=\"Horas de Arremate - <b>Atividade 2001</b>\")\n",
    "fig.show()"
   ]
  },
  {
   "cell_type": "code",
   "execution_count": null,
   "metadata": {
    "hideCode": true,
    "hidePrompt": true
   },
   "outputs": [],
   "source": [
    "import plotly.graph_objects as go\n",
    "\n",
    "df_eqpto = dt_year_month.query(\"CD_ATIVIDADE == 2002\")\n",
    "#df_eqpto = df_eqpto.query(\"EQUIPTO == 1\")\n",
    "df_eqpto = df_eqpto.query(\"FG_ATIVIDADE_PRODUTIVA == 1\")\n",
    "\n",
    "df2019 = df_eqpto.query('ANO==\"2019\"')\n",
    "df2020 = df_eqpto.query('ANO==\"2020\"')\n",
    "\n",
    "fig = go.Figure(data=[   \n",
    "    go.Bar(name='2019', x=df2019.MES, y=df2019.VA_TEMPO_MOTOR_LIGADO, text=df2019.VA_TEMPO_MOTOR_LIGADO, textposition='auto'),\n",
    "    go.Bar(name='2020', x=df2020.MES, y=df2020.VA_TEMPO_MOTOR_LIGADO, text=df2020.VA_TEMPO_MOTOR_LIGADO, textposition='auto')\n",
    "])\n",
    "\n",
    "#marker_color='crimson'\n",
    "fig.update_traces(marker_line_color='rgb(255,255,255)', marker_line_width=0.5, opacity=0.9)\n",
    "fig.update_traces(texttemplate='%{text:.2s}', textposition='outside')\n",
    "fig.update_layout(uniformtext_minsize=8, uniformtext_mode='hide', title=\"Tempo de Esvaziamento(h) - <b>Atividade 2002</b>\")\n",
    "fig.show()"
   ]
  },
  {
   "cell_type": "code",
   "execution_count": null,
   "metadata": {
    "hideCode": true,
    "hidePrompt": true
   },
   "outputs": [],
   "source": [
    "import plotly.graph_objects as go\n",
    "\n",
    "df_eqpto = dt_year_month.query(\"CD_ATIVIDADE == 1942\")\n",
    "#df_eqpto = df_eqpto.query(\"EQUIPTO == 1\")\n",
    "df_eqpto = df_eqpto.query(\"FG_ATIVIDADE_PRODUTIVA == 1\")\n",
    "\n",
    "df2019 = df_eqpto.query('ANO==\"2019\"')\n",
    "df2020 = df_eqpto.query('ANO==\"2020\"')\n",
    "\n",
    "fig = go.Figure(data=[   \n",
    "    go.Bar(name='2019', x=df2019.MES, y=df2019.VA_TEMPO_MOTOR_LIGADO, text=df2019.VA_TEMPO_MOTOR_LIGADO, textposition='auto'),\n",
    "    go.Bar(name='2020', x=df2020.MES, y=df2020.VA_TEMPO_MOTOR_LIGADO, text=df2020.VA_TEMPO_MOTOR_LIGADO, textposition='auto')\n",
    "])\n",
    "\n",
    "#marker_color='crimson'\n",
    "fig.update_traces(marker_line_color='rgb(255,255,255)', marker_line_width=0.5, opacity=0.9)\n",
    "fig.update_traces(texttemplate='%{text:.2s}', textposition='outside')\n",
    "fig.update_layout(uniformtext_minsize=8, uniformtext_mode='hide', title=\"Horas de Desembuchamento - <b>Atividade 1942</b>\")\n",
    "fig.show()"
   ]
  },
  {
   "cell_type": "code",
   "execution_count": null,
   "metadata": {},
   "outputs": [],
   "source": []
  },
  {
   "cell_type": "code",
   "execution_count": null,
   "metadata": {},
   "outputs": [],
   "source": []
  },
  {
   "cell_type": "code",
   "execution_count": null,
   "metadata": {},
   "outputs": [],
   "source": []
  },
  {
   "cell_type": "code",
   "execution_count": null,
   "metadata": {},
   "outputs": [],
   "source": []
  },
  {
   "cell_type": "markdown",
   "metadata": {
    "hideCode": true,
    "hidePrompt": true
   },
   "source": [
    "+ Modelo da View vpb_gf_prod_atividades"
   ]
  },
  {
   "cell_type": "code",
   "execution_count": null,
   "metadata": {
    "hideCode": true,
    "hideOutput": true,
    "hidePrompt": true
   },
   "outputs": [],
   "source": [
    "'''select\n",
    "    e.id ,\n",
    "    p.dt_apontamento,\n",
    "    p.va_unidade,    \n",
    "    p.cd_equipamento,\n",
    "    p.nm_tipo_equipamento,\n",
    "    p.cd_atividade,\n",
    "    p.nm_atividade,\n",
    "    p.fg_atividade_produtiva,\n",
    "    p.fg_atividade_manutencao,\n",
    "    round(sum(p.va_tempo_motor_ligado)/ 60 / 60 / COUNT(DISTINCT(p.cd_equipamento)), 2) va_tempo_motor_ligado,\n",
    "    round(sum(p.va_tempo_motor_ocioso)/ 60 / 60 / COUNT(DISTINCT(p.cd_equipamento)), 2) va_tempo_motor_ocioso,\n",
    "    round(SUM(p.va_duracao) / 60 / 60 / COUNT(DISTINCT(p.cd_equipamento)), 2) v_tempo_prod_med_dia_atividade\n",
    "from ubsistemas.pb_gf_produtividade p,\n",
    "     vpb_gf_prod_equipto e\n",
    " where p.dt_apontamento = e.dt_apontamento (+)\n",
    "   and p.cd_equipamento = e.cd_equipamento (+)\n",
    "   and UPPER(e.cd_tp_recurso) IN ('CD','TT')\n",
    "   and lower(p.nm_tipo_equipamento) IN ('colhedora de cana','plantadora de cana picada')\n",
    "     GROUP BY\n",
    "      p.dt_apontamento,\n",
    "      p.va_unidade,\n",
    "      p.cd_equipamento,\n",
    "      p.nm_tipo_equipamento,\n",
    "      p.cd_atividade,\n",
    "      p.nm_atividade,\n",
    "      p.fg_atividade_produtiva,\n",
    "      p.fg_atividade_manutencao,\n",
    "      e.id;\n",
    "'''"
   ]
  },
  {
   "cell_type": "markdown",
   "metadata": {
    "hideCode": true,
    "hidePrompt": true
   },
   "source": [
    "+ Dados usados e que podem ser excluídos"
   ]
  },
  {
   "cell_type": "code",
   "execution_count": null,
   "metadata": {
    "hideCode": true,
    "hidePrompt": true
   },
   "outputs": [],
   "source": [
    "# ----- It's OK ------\n",
    "# DT_APONTAMENTO\n",
    "# EQUIPTO\n",
    "# CD_ATIVIDADE\n",
    "# NM_ATIVIDADE \n",
    "# FG_ATIVIDADE_PRODUTIVA    \n",
    "# FG_ATIVIDADE_MANUTENCAO              \n",
    "# VA_TEMPO_MOTOR_LIGADO     \n",
    "# VA_TEMPO_MOTOR_OCIOSO\n",
    "# VA_DURACAO = v_tempo_prod_med_dia_atividade\n",
    "\n",
    "# ----- Exclude -----\n",
    "# VA_ABASTECIMENTO  = VA_Consumo            \n",
    "# VA_KM_TOTAL               \n",
    "# VA_KM_TRABALHO             \n",
    "# VA_VELOCIDADE_MEDIA_TR     \n",
    "# VA_AREA_TRABALHO  = Dados usados para análise das plantadoras\n",
    "# VA_TEMPO_TRABALHO"
   ]
  },
  {
   "cell_type": "markdown",
   "metadata": {
    "hideCode": true,
    "hidePrompt": true
   },
   "source": [
    "+ Modelo de filtro para implementar nos inputs"
   ]
  },
  {
   "cell_type": "code",
   "execution_count": null,
   "metadata": {
    "hideCode": true,
    "hidePrompt": true
   },
   "outputs": [],
   "source": [
    "#values=[911]\n",
    "#filtered_df = db_resumo[db_resumo.CD_ATIVIDADE.isin(values)]\n",
    "#filtered_df"
   ]
  },
  {
   "cell_type": "code",
   "execution_count": null,
   "metadata": {
    "hideCode": true,
    "hidePrompt": true
   },
   "outputs": [],
   "source": [
    "#db_resumo[db_resumo['NM_ATIVIDADE'].str.contains(\"En\")]"
   ]
  },
  {
   "cell_type": "code",
   "execution_count": null,
   "metadata": {
    "hideCode": true,
    "hideOutput": false,
    "hidePrompt": true
   },
   "outputs": [],
   "source": [
    "#values = input('Mes: ')\n",
    "#filtered_df = db_resumo_mes[db_resumo_mes.Mes.isin([values])]\n",
    "#filtered_df"
   ]
  },
  {
   "cell_type": "code",
   "execution_count": null,
   "metadata": {
    "hideCode": true,
    "hideOutput": false,
    "hidePrompt": true
   },
   "outputs": [],
   "source": [
    "#values = input('Ano: ')\n",
    "#db_resumo_mes_filter = db_resumo_mes.query(\"CD_ATIVIDADE == 905\")\n",
    "#db_resumo_mes_filter = db_resumo_mes_filter.query(\"EQUIPTO == 1\")\n",
    "#df_eqpto = db_resumo_mes_filter[db_resumo_mes_filter.Ano.isin([values])]"
   ]
  },
  {
   "cell_type": "code",
   "execution_count": null,
   "metadata": {
    "hideCode": true,
    "hideOutput": false,
    "hidePrompt": true
   },
   "outputs": [],
   "source": [
    "#import plotly.graph_objects as go\n",
    "\n",
    "#fig = go.Figure([go.Bar(x=df_eqpto.Mes, y=df_eqpto.VA_TEMPO_MOTOR_LIGADO)])\n",
    "#fig.show()"
   ]
  }
 ],
 "metadata": {
  "celltoolbar": "Hide code",
  "kernelspec": {
   "display_name": "Python 3",
   "language": "python",
   "name": "python3"
  },
  "language_info": {
   "codemirror_mode": {
    "name": "ipython",
    "version": 3
   },
   "file_extension": ".py",
   "mimetype": "text/x-python",
   "name": "python",
   "nbconvert_exporter": "python",
   "pygments_lexer": "ipython3",
   "version": "3.7.4"
  }
 },
 "nbformat": 4,
 "nbformat_minor": 2
}
